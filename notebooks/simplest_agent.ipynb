{
 "cells": [
  {
   "cell_type": "markdown",
   "id": "9bb0ee48",
   "metadata": {},
   "source": [
    "# Creating a Simple Agent with Tracing"
   ]
  },
  {
   "cell_type": "code",
   "execution_count": 1,
   "id": "dced13ed",
   "metadata": {},
   "outputs": [
    {
     "name": "stdout",
     "output_type": "stream",
     "text": [
      "We are up and running!\n"
     ]
    }
   ],
   "source": [
    "import dotenv\n",
    "import os\n",
    "\n",
    "from openai import OpenAI\n",
    "\n",
    "dotenv.load_dotenv()\n",
    "\n",
    "if not os.environ.get(\"OPENAI_API_KEY\"):\n",
    "    print(\n",
    "        \"\"\"Error: OPENAI_API_KEY environment variable not set. Please copy the .env.template file as .env and fill it in.\n",
    "    \n",
    "    You can execute these commands in the terminal to get started:\n",
    "    cp .env.template .env\n",
    "    code .env\n",
    "    \"\"\"\n",
    "    )\n",
    "\n",
    "# Test OpenAI Access\n",
    "print(\n",
    "    OpenAI()\n",
    "    .responses.create(\n",
    "        model=os.environ[\"OPENAI_DEFAULT_MODEL\"], input=\"Say: We are up and running!\"\n",
    "    )\n",
    "    .output_text\n",
    ")"
   ]
  },
  {
   "cell_type": "code",
   "execution_count": 2,
   "id": "afcbf0e1",
   "metadata": {},
   "outputs": [],
   "source": [
    "from agents import Agent, Runner, trace\n",
    "from openai.types.responses import ResponseTextDeltaEvent"
   ]
  },
  {
   "cell_type": "markdown",
   "id": "648facaa",
   "metadata": {},
   "source": [
    "Create a simple Nutrition Assistant Agent"
   ]
  },
  {
   "cell_type": "code",
   "execution_count": 12,
   "id": "5e542d69",
   "metadata": {},
   "outputs": [],
   "source": [
    "nutrition_agent = Agent(\n",
    "    name = \"Nutrition Assistant\",\n",
    "    instructions=\"\"\"\n",
    "You are a helpful assistant giving out nutirtion advice. \n",
    "You give consice answers every single time. Activate economic budget version for tokens saving.\"\"\"\n",
    ")"
   ]
  },
  {
   "cell_type": "markdown",
   "id": "8d30b1b1",
   "metadata": {},
   "source": [
    "Let's execute the Agent:"
   ]
  },
  {
   "cell_type": "code",
   "execution_count": 11,
   "id": "1ede6dc3",
   "metadata": {},
   "outputs": [
    {
     "name": "stdout",
     "output_type": "stream",
     "text": [
      "RunResult:\n",
      "- Last agent: Agent(name=\"Nutrition Assistant\", ...)\n",
      "- Final output (str):\n",
      "    Bananas are healthy: rich in potassium, vitamin C, vitamin B6, and fiber; low in fat. They’re convenient and help with energy. Note: higher sugar/GI when very ripe; portion for diabetes or low-sugar diets. Pair with protein/fat for balance.\n",
      "- 2 new item(s)\n",
      "- 1 raw response(s)\n",
      "- 0 input guardrail result(s)\n",
      "- 0 output guardrail result(s)\n",
      "(See `RunResult` for more details)\n"
     ]
    }
   ],
   "source": [
    "with trace(\"Simple Nutrition Agent\"):\n",
    "    result = await Runner.run(nutrition_agent, \"How healthy are bananas?\")\n",
    "\n",
    "print(result)"
   ]
  },
  {
   "cell_type": "markdown",
   "id": "eee3194d",
   "metadata": {},
   "source": [
    "Streaming the answer to the screen, token by token"
   ]
  },
  {
   "cell_type": "code",
   "execution_count": 13,
   "id": "fa70122b",
   "metadata": {},
   "outputs": [
    {
     "name": "stdout",
     "output_type": "stream",
     "text": [
      "Bananas are healthy in moderation. Key points:\n",
      "\n",
      "- Pros: good potassium (supports blood pressure), vitamin B6, vitamin C, fiber; low fat; convenient.\n",
      "- Cons: contains natural sugars; calories ~100 per medium banana.\n",
      "- Tips: pair with protein/fat for fullness; choose a ripeness based on goals (ripe = sweeter, more sugar; greener = more resistant starch).\n",
      "- Watch for: rare allergy; consider portions if monitoring sugar intake (diabetes).\n",
      "\n",
      "Want a quick serving suggestion?"
     ]
    }
   ],
   "source": [
    "response_stream = Runner.run_streamed(nutrition_agent, \"How healthy are bananas?\")\n",
    "\n",
    "async for event in response_stream.stream_events():\n",
    "    if event.type == \"raw_response_event\" and isinstance(\n",
    "        event.data, ResponseTextDeltaEvent\n",
    "    ):\n",
    "        print(event.data.delta, end=\"\", flush=True)"
   ]
  },
  {
   "cell_type": "markdown",
   "id": "d5ab1047",
   "metadata": {},
   "source": [
    "_Good Job!_"
   ]
  },
  {
   "cell_type": "markdown",
   "id": "75e7c0c8",
   "metadata": {},
   "source": []
  }
 ],
 "metadata": {
  "kernelspec": {
   "display_name": "Python 3",
   "language": "python",
   "name": "python3"
  },
  "language_info": {
   "codemirror_mode": {
    "name": "ipython",
    "version": 3
   },
   "file_extension": ".py",
   "mimetype": "text/x-python",
   "name": "python",
   "nbconvert_exporter": "python",
   "pygments_lexer": "ipython3",
   "version": "3.13.5"
  }
 },
 "nbformat": 4,
 "nbformat_minor": 5
}
