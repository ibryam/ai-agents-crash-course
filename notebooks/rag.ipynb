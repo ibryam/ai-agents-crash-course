{
 "cells": [
  {
   "cell_type": "markdown",
   "id": "568a95f0",
   "metadata": {},
   "source": [
    "# Retrieval-Augmented Generation (RAG)"
   ]
  },
  {
   "cell_type": "code",
   "execution_count": 12,
   "id": "3b442449",
   "metadata": {},
   "outputs": [
    {
     "data": {
      "text/plain": [
       "True"
      ]
     },
     "execution_count": 12,
     "metadata": {},
     "output_type": "execute_result"
    }
   ],
   "source": [
    "import chromadb\n",
    "import dotenv\n",
    "from pathlib import Path\n",
    "from agents import Agent, Runner, function_tool, trace\n",
    "\n",
    "dotenv.load_dotenv()"
   ]
  },
  {
   "cell_type": "markdown",
   "id": "69af3322",
   "metadata": {},
   "source": [
    "Create a static calorie table that we can use as a tool:"
   ]
  },
  {
   "cell_type": "code",
   "execution_count": 13,
   "id": "5cd4f7ad",
   "metadata": {},
   "outputs": [],
   "source": [
    "# We populated the RAG with the data from the data/calories.csv file in\n",
    "# the rag_setup.ipynb notebook\n",
    "\n",
    "chrome_client = chromadb.PersistentClient(\"../chroma\")\n",
    "nutrition_db = chrome_client.get_collection(name=\"nutrition_db\")"
   ]
  },
  {
   "cell_type": "code",
   "execution_count": 14,
   "id": "aae53855",
   "metadata": {},
   "outputs": [
    {
     "name": "stdout",
     "output_type": "stream",
     "text": [
      "[('calories_per_100g', 89.0), ('food_category', 'fruits'), ('food_item', 'banana'), ('keywords', 'banana_fruits'), ('kj_per_100g', 374.0), ('serving_info', '100g')]\n",
      "Food: Banana\n",
      "        Category: Fruits\n",
      "        Nutritional Information:\n",
      "        - Calories: 89 per 100g\n",
      "        - Energy: 374 kJ per 100g\n",
      "        - Serving size reference: 100g\n",
      "\n",
      "        This is a fruits food item that provides 89 calories per 100 grams.\n",
      "\n",
      "\n",
      "[('calories_per_100g', 50.0), ('food_category', '(fruit)juices'), ('food_item', 'banana juice'), ('keywords', 'banana_juice_(fruit)juices'), ('kj_per_100g', 210.0), ('serving_info', '100ml')]\n",
      "Food: Banana Juice\n",
      "        Category: (Fruit)Juices\n",
      "        Nutritional Information:\n",
      "        - Calories: 50 per 100g\n",
      "        - Energy: 210 kJ per 100g\n",
      "        - Serving size reference: 100ml\n",
      "\n",
      "        This is a (fruit)juices food item that provides 50 calories per 100 grams.\n",
      "\n",
      "\n"
     ]
    }
   ],
   "source": [
    "results = nutrition_db.query(query_texts=[\"banana\"], n_results=2)\n",
    "for i, doc in enumerate(results[\"documents\"][0]):\n",
    "    print(sorted(results[\"metadatas\"][0][i].items()))\n",
    "    print(doc)\n",
    "    print(\"\\n\")"
   ]
  },
  {
   "cell_type": "code",
   "execution_count": null,
   "id": "fe2a2850",
   "metadata": {},
   "outputs": [],
   "source": [
    "@function_tool\n",
    "def calorie_lookup_tool(query: str, max_results: int = 3) -> str:\n",
    "    \"\"\"\n",
    "    Tool function for a RAG database to look up calorie information for specific food items, but not for meals.\n",
    "\n",
    "    Args:\n",
    "        query: The food item to look up.\n",
    "        max_results: The maximum number of results to return.\n",
    "\n",
    "    Returns:\n",
    "        A string containing the nutrition information.\n",
    "    \"\"\"\n",
    "\n",
    "    results = nutrition_db.query(query_texts=[query], n_results=max_results)\n",
    "\n",
    "    if not results[\"documents\"][0]:\n",
    "        return f\"No nutrition information found for: {query}\"\n",
    "\n",
    "    # Format results for the agent\n",
    "    formatted_results = []\n",
    "    for i, doc in enumerate(results[\"documents\"][0]):\n",
    "        metadata = results[\"metadatas\"][0][i]\n",
    "        food_item = metadata[\"food_item\"].title()\n",
    "        calories = metadata[\"calories_per_100g\"]\n",
    "        category = metadata[\"food_category\"].title()\n",
    "\n",
    "        formatted_results.append(\n",
    "            f\"{food_item} ({category}): {calories} calories per 100g\"\n",
    "        )\n",
    "\n",
    "    return \"Nutrition Information:\\n\" + \"\\n\".join(formatted_results)"
   ]
  },
  {
   "cell_type": "markdown",
   "id": "c4507cd1",
   "metadata": {},
   "source": [
    "Let's test this out: \n",
    "\n",
    "_The following cell only works before you add the `@function_tool` annotation to `calorie_lookup_tool` function_"
   ]
  },
  {
   "cell_type": "code",
   "execution_count": null,
   "id": "c63a7e4d",
   "metadata": {},
   "outputs": [
    {
     "data": {
      "text/plain": [
       "'Nutrition Information:\\nBanana (Fruits): 89.0 calories per 100g\\nBanana Juice ((Fruit)Juices): 50.0 calories per 100g\\nBanana Nut Bread (Pastries,Breads&Rolls): 326.0 calories per 100g'"
      ]
     },
     "execution_count": 23,
     "metadata": {},
     "output_type": "execute_result"
    }
   ],
   "source": [
    "# calorie_lookup_tool(\"bananas\")"
   ]
  },
  {
   "cell_type": "code",
   "execution_count": null,
   "id": "3f07cbdb",
   "metadata": {},
   "outputs": [
    {
     "ename": "TypeError",
     "evalue": "'FunctionTool' object is not callable",
     "output_type": "error",
     "traceback": [
      "\u001b[31m---------------------------------------------------------------------------\u001b[39m",
      "\u001b[31mTypeError\u001b[39m                                 Traceback (most recent call last)",
      "\u001b[36mCell\u001b[39m\u001b[36m \u001b[39m\u001b[32mIn[21]\u001b[39m\u001b[32m, line 1\u001b[39m\n\u001b[32m----> \u001b[39m\u001b[32m1\u001b[39m \u001b[43mcalorie_lookup_tool\u001b[49m\u001b[43m(\u001b[49m\u001b[33;43m'\u001b[39;49m\u001b[33;43mbananas\u001b[39;49m\u001b[33;43m'\u001b[39;49m\u001b[43m)\u001b[49m\n",
      "\u001b[31mTypeError\u001b[39m: 'FunctionTool' object is not callable"
     ]
    }
   ],
   "source": [
    "# calorie_lookup_tool('bananas')"
   ]
  },
  {
   "cell_type": "code",
   "execution_count": 17,
   "id": "1fe172e2",
   "metadata": {},
   "outputs": [],
   "source": [
    "calorie_agent = Agent(\n",
    "    name=\"Nutrition Assistant\",\n",
    "    instructions=\"\"\"\n",
    "    You are a helpful nutrition assistant giving out calorie information.\n",
    "    You give concise answers.\n",
    "    If you need to look up calorie information, use the calorie_lookup_tool.\n",
    "    \"\"\",\n",
    "tools=[calorie_lookup_tool])"
   ]
  },
  {
   "cell_type": "code",
   "execution_count": 18,
   "id": "1705b2fc",
   "metadata": {},
   "outputs": [
    {
     "name": "stdout",
     "output_type": "stream",
     "text": [
      "- Total for one medium banana + one medium apple: about 200 kcal (banana ~105 kcal + apple ~95 kcal).\n",
      "- Calories per 100 g: banana 89 kcal; apple 52 kcal.\n"
     ]
    }
   ],
   "source": [
    "with trace(\"Nutrition Assistant with RAG\"):\n",
    "    result = await Runner.run(\n",
    "        calorie_agent,\n",
    "        \"How many calories are in total in a banana and an apple? Also give calories per 100g\",\n",
    "    )\n",
    "    print(result.final_output)"
   ]
  }
 ],
 "metadata": {
  "kernelspec": {
   "display_name": "Python 3",
   "language": "python",
   "name": "python3"
  },
  "language_info": {
   "codemirror_mode": {
    "name": "ipython",
    "version": 3
   },
   "file_extension": ".py",
   "mimetype": "text/x-python",
   "name": "python",
   "nbconvert_exporter": "python",
   "pygments_lexer": "ipython3",
   "version": "3.13.5"
  }
 },
 "nbformat": 4,
 "nbformat_minor": 5
}
